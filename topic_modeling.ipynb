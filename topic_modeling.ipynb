{
 "cells": [
  {
   "cell_type": "code",
   "execution_count": 2,
   "metadata": {},
   "outputs": [
    {
     "data": {
      "text/html": [
       "<div>\n",
       "<style scoped>\n",
       "    .dataframe tbody tr th:only-of-type {\n",
       "        vertical-align: middle;\n",
       "    }\n",
       "\n",
       "    .dataframe tbody tr th {\n",
       "        vertical-align: top;\n",
       "    }\n",
       "\n",
       "    .dataframe thead th {\n",
       "        text-align: right;\n",
       "    }\n",
       "</style>\n",
       "<table border=\"1\" class=\"dataframe\">\n",
       "  <thead>\n",
       "    <tr style=\"text-align: right;\">\n",
       "      <th></th>\n",
       "      <th>Sl no</th>\n",
       "      <th>text</th>\n",
       "    </tr>\n",
       "  </thead>\n",
       "  <tbody>\n",
       "    <tr>\n",
       "      <th>0</th>\n",
       "      <td>303</td>\n",
       "      <td>All</td>\n",
       "    </tr>\n",
       "    <tr>\n",
       "      <th>1</th>\n",
       "      <td>22</td>\n",
       "      <td>All baby toys not for groneups</td>\n",
       "    </tr>\n",
       "    <tr>\n",
       "      <th>2</th>\n",
       "      <td>206</td>\n",
       "      <td>All of the above</td>\n",
       "    </tr>\n",
       "    <tr>\n",
       "      <th>3</th>\n",
       "      <td>90</td>\n",
       "      <td>All the seats are taken by the staff</td>\n",
       "    </tr>\n",
       "    <tr>\n",
       "      <th>4</th>\n",
       "      <td>405</td>\n",
       "      <td>Alreem</td>\n",
       "    </tr>\n",
       "  </tbody>\n",
       "</table>\n",
       "</div>"
      ],
      "text/plain": [
       "   Sl no                                  text\n",
       "0    303                                   All\n",
       "1     22        All baby toys not for groneups\n",
       "2    206                      All of the above\n",
       "3     90  All the seats are taken by the staff\n",
       "4    405                                Alreem"
      ]
     },
     "execution_count": 2,
     "metadata": {},
     "output_type": "execute_result"
    }
   ],
   "source": [
    "import pandas as pd\n",
    "import os\n",
    "papers = pd.read_csv('feedback.csv')\n",
    "papers.head()"
   ]
  },
  {
   "cell_type": "code",
   "execution_count": 4,
   "metadata": {},
   "outputs": [
    {
     "data": {
      "text/plain": [
       "Index(['Sl no', 'text'], dtype='object')"
      ]
     },
     "execution_count": 4,
     "metadata": {},
     "output_type": "execute_result"
    }
   ],
   "source": [
    "papers.columns"
   ]
  },
  {
   "cell_type": "code",
   "execution_count": 9,
   "metadata": {},
   "outputs": [
    {
     "data": {
      "text/html": [
       "<div>\n",
       "<style scoped>\n",
       "    .dataframe tbody tr th:only-of-type {\n",
       "        vertical-align: middle;\n",
       "    }\n",
       "\n",
       "    .dataframe tbody tr th {\n",
       "        vertical-align: top;\n",
       "    }\n",
       "\n",
       "    .dataframe thead th {\n",
       "        text-align: right;\n",
       "    }\n",
       "</style>\n",
       "<table border=\"1\" class=\"dataframe\">\n",
       "  <thead>\n",
       "    <tr style=\"text-align: right;\">\n",
       "      <th></th>\n",
       "      <th>text</th>\n",
       "    </tr>\n",
       "  </thead>\n",
       "  <tbody>\n",
       "    <tr>\n",
       "      <th>0</th>\n",
       "      <td>All</td>\n",
       "    </tr>\n",
       "    <tr>\n",
       "      <th>1</th>\n",
       "      <td>All baby toys not for groneups</td>\n",
       "    </tr>\n",
       "    <tr>\n",
       "      <th>2</th>\n",
       "      <td>All of the above</td>\n",
       "    </tr>\n",
       "    <tr>\n",
       "      <th>3</th>\n",
       "      <td>All the seats are taken by the staff</td>\n",
       "    </tr>\n",
       "    <tr>\n",
       "      <th>4</th>\n",
       "      <td>Alreem</td>\n",
       "    </tr>\n",
       "  </tbody>\n",
       "</table>\n",
       "</div>"
      ],
      "text/plain": [
       "                                   text\n",
       "0                                   All\n",
       "1        All baby toys not for groneups\n",
       "2                      All of the above\n",
       "3  All the seats are taken by the staff\n",
       "4                                Alreem"
      ]
     },
     "execution_count": 9,
     "metadata": {},
     "output_type": "execute_result"
    }
   ],
   "source": [
    "# Remove the columns\n",
    "#papers = papers.drop(columns=['Sl no'], axis=1)\n",
    "papers.head()"
   ]
  },
  {
   "cell_type": "code",
   "execution_count": 11,
   "metadata": {},
   "outputs": [
    {
     "data": {
      "text/plain": [
       "0                                     all\n",
       "1          all baby toys not for groneups\n",
       "2                        all of the above\n",
       "3    all the seats are taken by the staff\n",
       "4                                  alreem\n",
       "Name: paper_text_processed, dtype: object"
      ]
     },
     "execution_count": 11,
     "metadata": {},
     "output_type": "execute_result"
    }
   ],
   "source": [
    "# Load the regular expression library\n",
    "import re\n",
    "# Remove punctuation\n",
    "papers['paper_text_processed'] = \\\n",
    "papers['text'].map(lambda x: re.sub('[,\\.!?]', '', x))\n",
    "# Convert the titles to lowercase\n",
    "papers['paper_text_processed'] = \\\n",
    "papers['paper_text_processed'].map(lambda x: x.lower())\n",
    "# Print out the first rows of papers\n",
    "papers['paper_text_processed'].head()"
   ]
  },
  {
   "cell_type": "code",
   "execution_count": 13,
   "metadata": {},
   "outputs": [
    {
     "data": {
      "image/png": "[encoded data removed]",
      "text/plain": [
       "<PIL.Image.Image image mode=RGB size=400x200 at 0x24FC13E2E20>"
      ]
     },
     "execution_count": 13,
     "metadata": {},
     "output_type": "execute_result"
    }
   ],
   "source": [
    "# Import the wordcloud library\n",
    "from wordcloud import WordCloud\n",
    "# Join the different processed titles together.\n",
    "long_string = ','.join(list(papers['paper_text_processed'].values))\n",
    "# Create a WordCloud object\n",
    "wordcloud = WordCloud(background_color=\"white\", max_words=5000, contour_width=3, contour_color='steelblue')\n",
    "# Generate a word cloud\n",
    "wordcloud.generate(long_string)\n",
    "# Visualize the word cloud\n",
    "wordcloud.to_image()"
   ]
  },
  {
   "cell_type": "code",
   "execution_count": 15,
   "metadata": {},
   "outputs": [
    {
     "name": "stdout",
     "output_type": "stream",
     "text": [
      "[nltk_data] Downloading package stopwords to\n",
      "[nltk_data]     C:\\Users\\nitin.b\\AppData\\Roaming\\nltk_data...\n",
      "[nltk_data]   Package stopwords is already up-to-date!\n",
      "[]\n"
     ]
    }
   ],
   "source": [
    "import gensim\n",
    "from gensim.utils import simple_preprocess\n",
    "import nltk\n",
    "nltk.download('stopwords')\n",
    "from nltk.corpus import stopwords\n",
    "stop_words = stopwords.words('english')\n",
    "stop_words.extend(['from', 'subject', 're', 'edu', 'use'])\n",
    "def sent_to_words(sentences):\n",
    "    for sentence in sentences:\n",
    "        # deacc=True removes punctuations\n",
    "        yield(gensim.utils.simple_preprocess(str(sentence), deacc=True))\n",
    "def remove_stopwords(texts):\n",
    "    return [[word for word in simple_preprocess(str(doc)) \n",
    "             if word not in stop_words] for doc in texts]\n",
    "data = papers.paper_text_processed.values.tolist()\n",
    "data_words = list(sent_to_words(data))\n",
    "# remove stop words\n",
    "data_words = remove_stopwords(data_words)\n",
    "print(data_words[:1][0][:30])"
   ]
  },
  {
   "cell_type": "code",
   "execution_count": 18,
   "metadata": {},
   "outputs": [
    {
     "data": {
      "text/plain": [
       "[[],\n",
       " ['baby', 'toys', 'groneups'],\n",
       " [],\n",
       " ['seats', 'taken', 'staff'],\n",
       " ['alreem'],\n",
       " ['amazing',\n",
       "  'service',\n",
       "  'done',\n",
       "  'mr',\n",
       "  'kevin',\n",
       "  'helping',\n",
       "  'stroller',\n",
       "  'collection'],\n",
       " ['amina'],\n",
       " ['anahita'],\n",
       " ['anarose', 'good', 'product', 'knowledge', 'attentive'],\n",
       " ['anarose', 'product', 'knowledge', 'attentive', 'good', 'attitude'],\n",
       " ['anna', 'helps', 'us', 'get', 'things', 'awesome'],\n",
       " ['anna', 'rose', 'attetive', 'helps', 'find', 'items', 'even', 'shop'],\n",
       " ['annarose', 'attend', 'cheerful', 'attentive'],\n",
       " ['annarose', 'attentive', 'seeking', 'stock', 'product', 'knowledge'],\n",
       " ['annarose', 'giving', 'excellent', 'service', 'yo', 'us'],\n",
       " ['annerose'],\n",
       " ['arfa'],\n",
       " []]"
      ]
     },
     "execution_count": 18,
     "metadata": {},
     "output_type": "execute_result"
    }
   ],
   "source": [
    "data_words = remove_stopwords(data_words)\n",
    "data_words\n"
   ]
  },
  {
   "cell_type": "code",
   "execution_count": 21,
   "metadata": {},
   "outputs": [
    {
     "data": {
      "text/plain": [
       "[[],\n",
       " [(0, 1), (1, 1), (2, 1)],\n",
       " [],\n",
       " [(3, 1), (4, 1), (5, 1)],\n",
       " [(6, 1)],\n",
       " [(7, 1), (8, 1), (9, 1), (10, 1), (11, 1), (12, 1), (13, 1), (14, 1)],\n",
       " [(15, 1)],\n",
       " [(16, 1)],\n",
       " [(17, 1), (18, 1), (19, 1), (20, 1), (21, 1)],\n",
       " [(17, 1), (18, 1), (19, 1), (20, 1), (21, 1), (22, 1)],\n",
       " [(23, 1), (24, 1), (25, 1), (26, 1), (27, 1), (28, 1)],\n",
       " [(23, 1), (26, 1), (29, 1), (30, 1), (31, 1), (32, 1), (33, 1), (34, 1)],\n",
       " [(18, 1), (35, 1), (36, 1), (37, 1)],\n",
       " [(18, 1), (20, 1), (21, 1), (35, 1), (38, 1), (39, 1)],\n",
       " [(13, 1), (28, 1), (35, 1), (40, 1), (41, 1), (42, 1)],\n",
       " [(43, 1)],\n",
       " [(44, 1)],\n",
       " []]"
      ]
     },
     "execution_count": 21,
     "metadata": {},
     "output_type": "execute_result"
    }
   ],
   "source": [
    "import gensim.corpora as corpora\n",
    "# Create Dictionary\n",
    "id2word = corpora.Dictionary(data_words)\n",
    "# Create Corpus\n",
    "texts = data_words\n",
    "# Term Document Frequency\n",
    "corpus = [id2word.doc2bow(text) for text in texts]\n",
    "# View\n",
    "corpus"
   ]
  },
  {
   "cell_type": "code",
   "execution_count": 22,
   "metadata": {},
   "outputs": [
    {
     "name": "stdout",
     "output_type": "stream",
     "text": [
      "[(0,\n",
      "  '0.147*\"baby\" + 0.147*\"toys\" + 0.147*\"groneups\" + 0.013*\"anahita\" + '\n",
      "  '0.013*\"arfa\" + 0.013*\"annerose\" + 0.013*\"amina\" + 0.013*\"attentive\" + '\n",
      "  '0.013*\"alreem\" + 0.013*\"knowledge\"'),\n",
      " (1,\n",
      "  '0.200*\"alreem\" + 0.018*\"anahita\" + 0.018*\"arfa\" + 0.018*\"amina\" + '\n",
      "  '0.018*\"annerose\" + 0.018*\"attentive\" + 0.018*\"annarose\" + 0.018*\"knowledge\" '\n",
      "  '+ 0.018*\"product\" + 0.018*\"anarose\"'),\n",
      " (2,\n",
      "  '0.145*\"annarose\" + 0.076*\"yo\" + 0.076*\"giving\" + 0.076*\"service\" + '\n",
      "  '0.076*\"excellent\" + 0.076*\"us\" + 0.076*\"attentive\" + 0.076*\"cheerful\" + '\n",
      "  '0.076*\"attend\" + 0.007*\"anahita\"'),\n",
      " (3,\n",
      "  '0.088*\"amazing\" + 0.088*\"helping\" + 0.088*\"kevin\" + 0.088*\"collection\" + '\n",
      "  '0.088*\"mr\" + 0.088*\"done\" + 0.088*\"service\" + 0.088*\"stroller\" + '\n",
      "  '0.008*\"anahita\" + 0.008*\"attentive\"'),\n",
      " (4,\n",
      "  '0.059*\"shop\" + 0.059*\"even\" + 0.059*\"rose\" + 0.059*\"annarose\" + '\n",
      "  '0.059*\"items\" + 0.059*\"product\" + 0.059*\"knowledge\" + 0.059*\"find\" + '\n",
      "  '0.059*\"attetive\" + 0.059*\"helps\"'),\n",
      " (5,\n",
      "  '0.114*\"good\" + 0.114*\"knowledge\" + 0.114*\"product\" + 0.114*\"anarose\" + '\n",
      "  '0.114*\"attentive\" + 0.059*\"attitude\" + 0.059*\"amina\" + 0.059*\"arfa\" + '\n",
      "  '0.059*\"anahita\" + 0.005*\"alreem\"'),\n",
      " (6,\n",
      "  '0.200*\"annerose\" + 0.018*\"anahita\" + 0.018*\"amina\" + 0.018*\"alreem\" + '\n",
      "  '0.018*\"arfa\" + 0.018*\"attentive\" + 0.018*\"annarose\" + 0.018*\"knowledge\" + '\n",
      "  '0.018*\"product\" + 0.018*\"taken\"'),\n",
      " (7,\n",
      "  '0.022*\"annerose\" + 0.022*\"anahita\" + 0.022*\"amina\" + 0.022*\"arfa\" + '\n",
      "  '0.022*\"alreem\" + 0.022*\"attentive\" + 0.022*\"annarose\" + 0.022*\"knowledge\" + '\n",
      "  '0.022*\"product\" + 0.022*\"helps\"'),\n",
      " (8,\n",
      "  '0.022*\"anahita\" + 0.022*\"amina\" + 0.022*\"annerose\" + 0.022*\"arfa\" + '\n",
      "  '0.022*\"alreem\" + 0.022*\"attentive\" + 0.022*\"annarose\" + 0.022*\"product\" + '\n",
      "  '0.022*\"taken\" + 0.022*\"groneups\"'),\n",
      " (9,\n",
      "  '0.081*\"things\" + 0.081*\"anna\" + 0.081*\"helps\" + 0.081*\"us\" + 0.081*\"get\" + '\n",
      "  '0.081*\"awesome\" + 0.081*\"staff\" + 0.081*\"seats\" + 0.081*\"taken\" + '\n",
      "  '0.007*\"arfa\"')]\n"
     ]
    }
   ],
   "source": [
    "from pprint import pprint\n",
    "# number of topics\n",
    "num_topics = 10\n",
    "# Build LDA model\n",
    "lda_model = gensim.models.LdaMulticore(corpus=corpus,\n",
    "                                       id2word=id2word,\n",
    "                                       num_topics=num_topics)\n",
    "# Print the Keyword in the 10 topics\n",
    "pprint(lda_model.print_topics())\n",
    "doc_lda = lda_model[corpus]"
   ]
  },
  {
   "cell_type": "code",
   "execution_count": 25,
   "metadata": {},
   "outputs": [],
   "source": [
    "import pyLDAvis.gensim\n",
    "import pickle \n",
    "import pyLDAvis\n",
    "\n",
    "# Visualize the topics\n",
    "pyLDAvis.enable_notebook()\n",
    "LDAvis_data_filepath = os.path.join('./results/ldavis_prepared_'+str(num_topics))\n",
    "\n"
   ]
  },
  {
   "cell_type": "code",
   "execution_count": null,
   "metadata": {},
   "outputs": [],
   "source": [
    "\n",
    "if 1 == 1:\n",
    "    LDAvis_prepared = pyLDAvis.gensim.prepare(lda_model, corpus, id2word)\n",
    "    with open(LDAvis_data_filepath, 'wb') as f:\n",
    "        pickle.dump(LDAvis_prepared, f)\n",
    "\n"
   ]
  },
  {
   "cell_type": "code",
   "execution_count": null,
   "metadata": {},
   "outputs": [],
   "source": [
    "\n",
    "with open(LDAvis_data_filepath, 'rb') as f:\n",
    "    LDAvis_prepared = pickle.load(f)\n",
    "pyLDAvis.save_html(LDAvis_prepared, './results/ldavis_prepared_'+ str(num_topics) +'.html')\n",
    "LDAvis_prepared"
   ]
  }
 ],
 "metadata": {
  "kernelspec": {
   "display_name": "Python 3",
   "language": "python",
   "name": "python3"
  },
  "language_info": {
   "codemirror_mode": {
    "name": "ipython",
    "version": 3
   },
   "file_extension": ".py",
   "mimetype": "text/x-python",
   "name": "python",
   "nbconvert_exporter": "python",
   "pygments_lexer": "ipython3",
   "version": "3.8.3"
  }
 },
 "nbformat": 4,
 "nbformat_minor": 4
}
