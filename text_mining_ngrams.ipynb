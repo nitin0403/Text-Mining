{
 "cells": [
  {
   "cell_type": "code",
   "execution_count": 1,
   "metadata": {},
   "outputs": [],
   "source": [
    "corpus = [\n",
    "'Great course. Love the professor.',\n",
    "'Great content. Textbook was great',\n",
    "'This course has very hard assignments. Great content.',\n",
    "'Love the professor.',\n",
    "'Hard assignments though',\n",
    "'Hard to understand.'\n",
    "]"
   ]
  },
  {
   "cell_type": "code",
   "execution_count": 2,
   "metadata": {},
   "outputs": [],
   "source": [
    "import pandas as pd\n",
    "df = pd.DataFrame(corpus)\n",
    "df.columns = ['reviews']"
   ]
  },
  {
   "cell_type": "code",
   "execution_count": 12,
   "metadata": {},
   "outputs": [
    {
     "name": "stdout",
     "output_type": "stream",
     "text": [
      "                                             reviews  polarity  subjective\n",
      "0                  Great course. Love the professor.  0.650000    0.675000\n",
      "1                  Great content. Textbook was great  0.800000    0.750000\n",
      "2  This course has very hard assignments. Great c...  0.210417    0.727083\n",
      "3                                Love the professor.  0.500000    0.600000\n",
      "4                            Hard assignments though -0.291667    0.541667\n",
      "5                                Hard to understand. -0.291667    0.541667\n"
     ]
    }
   ],
   "source": [
    "from textblob import TextBlob\n",
    "df['polarity'] = df['reviews'].apply(lambda x: TextBlob(x).polarity)\n",
    "df['subjective'] = df['reviews'].apply(lambda x: TextBlob(x).subjectivity)\n",
    "print(df)"
   ]
  },
  {
   "cell_type": "code",
   "execution_count": 13,
   "metadata": {},
   "outputs": [],
   "source": [
    "# sentiment analysis - bigram/trigram/ngram\n",
    "\n",
    "from nltk.corpus import stopwords\n",
    "stoplist = stopwords.words('english') + ['though']"
   ]
  },
  {
   "cell_type": "code",
   "execution_count": 15,
   "metadata": {},
   "outputs": [
    {
     "name": "stdout",
     "output_type": "stream",
     "text": [
      "    frequency             bigram/trigram\n",
      "0           2             love professor\n",
      "1           2           hard assignments\n",
      "2           2              great content\n",
      "3           1             textbook great\n",
      "4           1            hard understand\n",
      "5           1     hard assignments great\n",
      "6           1          great course love\n",
      "7           1               great course\n",
      "8           1     great content textbook\n",
      "9           1      course love professor\n",
      "10          1                course love\n",
      "11          1    course hard assignments\n",
      "12          1                course hard\n",
      "13          1     content textbook great\n",
      "14          1           content textbook\n",
      "15          1  assignments great content\n",
      "16          1          assignments great\n"
     ]
    }
   ],
   "source": [
    "from sklearn.feature_extraction.text import CountVectorizer\n",
    "c_vec = CountVectorizer(stop_words=stoplist, ngram_range=(2,3))\n",
    "# matrix of ngrams\n",
    "ngrams = c_vec.fit_transform(df['reviews'])\n",
    "# count frequency of ngrams\n",
    "count_values = ngrams.toarray().sum(axis=0)\n",
    "# list of ngrams\n",
    "vocab = c_vec.vocabulary_\n",
    "df_ngram = pd.DataFrame(sorted([(count_values[i],k) for k,i in vocab.items()], reverse=True)\n",
    "            ).rename(columns={0: 'frequency', 1:'bigram/trigram'})\n",
    "print(df_ngram)"
   ]
  },
  {
   "cell_type": "code",
   "execution_count": 16,
   "metadata": {},
   "outputs": [
    {
     "name": "stdout",
     "output_type": "stream",
     "text": [
      "    frequency             bigram/trigram  polarity  subjective\n",
      "0           2             love professor  0.500000    0.600000\n",
      "1           2           hard assignments -0.291667    0.541667\n",
      "2           2              great content  0.800000    0.750000\n",
      "3           1             textbook great  0.800000    0.750000\n",
      "4           1            hard understand -0.291667    0.541667\n",
      "5           1     hard assignments great  0.254167    0.645833\n",
      "6           1          great course love  0.650000    0.675000\n",
      "7           1               great course  0.800000    0.750000\n",
      "8           1     great content textbook  0.800000    0.750000\n",
      "9           1      course love professor  0.500000    0.600000\n",
      "10          1                course love  0.500000    0.600000\n",
      "11          1    course hard assignments -0.291667    0.541667\n",
      "12          1                course hard -0.291667    0.541667\n",
      "13          1     content textbook great  0.800000    0.750000\n",
      "14          1           content textbook  0.000000    0.000000\n",
      "15          1  assignments great content  0.800000    0.750000\n",
      "16          1          assignments great  0.800000    0.750000\n"
     ]
    }
   ],
   "source": [
    "df_ngram['polarity'] = df_ngram['bigram/trigram'].apply(lambda x: TextBlob(x).polarity)\n",
    "df_ngram['subjective'] = df_ngram['bigram/trigram'].apply(lambda x: TextBlob(x).subjectivity)\n",
    "print(df_ngram)"
   ]
  },
  {
   "cell_type": "code",
   "execution_count": 17,
   "metadata": {},
   "outputs": [
    {
     "name": "stdout",
     "output_type": "stream",
     "text": [
      "Topic #0: love professor, great course love, great course\n",
      "Topic #1: hard assignments, assignments great, course hard assignments\n",
      "Topic #2: textbook great, great content textbook, content textbook\n",
      "\n"
     ]
    }
   ],
   "source": [
    "# Topic Modelling\n",
    "\n",
    "from sklearn.feature_extraction.text import TfidfVectorizer\n",
    "from sklearn.decomposition import NMF\n",
    "from sklearn.pipeline import make_pipeline\n",
    "tfidf_vectorizer = TfidfVectorizer(stop_words=stoplist, ngram_range=(2,3))\n",
    "nmf = NMF(n_components=3)\n",
    "pipe = make_pipeline(tfidf_vectorizer, nmf)\n",
    "pipe.fit(df['reviews'])\n",
    "def print_top_words(model, feature_names, n_top_words):\n",
    "    for topic_idx, topic in enumerate(model.components_):\n",
    "        message = \"Topic #%d: \" % topic_idx\n",
    "        message += \", \".join([feature_names[i]\n",
    "                             for i in topic.argsort()[:-n_top_words - 1:-1]])\n",
    "        print(message)\n",
    "    print()\n",
    "print_top_words(nmf, tfidf_vectorizer.get_feature_names(), n_top_words=3)"
   ]
  },
  {
   "cell_type": "code",
   "execution_count": 18,
   "metadata": {},
   "outputs": [
    {
     "name": "stdout",
     "output_type": "stream",
     "text": [
      "Topic #0: hard understand, love professor, assignments great\n",
      "Topic #1: great course love, great course, course love professor\n",
      "Topic #2: hard assignments, great content textbook, content textbook great\n",
      "\n"
     ]
    }
   ],
   "source": [
    "# LDA Model\n",
    "\n",
    "from sklearn.decomposition import LatentDirichletAllocation\n",
    "tfidf_vectorizer = TfidfVectorizer(stop_words=stoplist, ngram_range=(2,3))\n",
    "lda = LatentDirichletAllocation(n_components=3)\n",
    "pipe = make_pipeline(tfidf_vectorizer, lda)\n",
    "pipe.fit(df['reviews'])\n",
    "def print_top_words(model, feature_names, n_top_words):\n",
    "    for topic_idx, topic in enumerate(model.components_):\n",
    "        message = \"Topic #%d: \" % topic_idx\n",
    "        message += \", \".join([feature_names[i]\n",
    "                             for i in topic.argsort()[:-n_top_words - 1:-1]])\n",
    "        print(message)\n",
    "    print()\n",
    "print_top_words(lda, tfidf_vectorizer.get_feature_names(), n_top_words=3)"
   ]
  }
 ],
 "metadata": {
  "kernelspec": {
   "display_name": "Python 3",
   "language": "python",
   "name": "python3"
  },
  "language_info": {
   "codemirror_mode": {
    "name": "ipython",
    "version": 3
   },
   "file_extension": ".py",
   "mimetype": "text/x-python",
   "name": "python",
   "nbconvert_exporter": "python",
   "pygments_lexer": "ipython3",
   "version": "3.8.3"
  }
 },
 "nbformat": 4,
 "nbformat_minor": 4
}
